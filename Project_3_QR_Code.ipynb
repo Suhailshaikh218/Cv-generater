{
  "nbformat": 4,
  "nbformat_minor": 0,
  "metadata": {
    "colab": {
      "provenance": [],
      "authorship_tag": "ABX9TyPdn6ULAqsyUGOGk6G5jh5u",
      "include_colab_link": true
    },
    "kernelspec": {
      "name": "python3",
      "display_name": "Python 3"
    },
    "language_info": {
      "name": "python"
    }
  },
  "cells": [
    {
      "cell_type": "markdown",
      "metadata": {
        "id": "view-in-github",
        "colab_type": "text"
      },
      "source": [
        "<a href=\"https://colab.research.google.com/github/Suhailshaikh218/Cv-generater/blob/main/Project_3_QR_Code.ipynb\" target=\"_parent\"><img src=\"https://colab.research.google.com/assets/colab-badge.svg\" alt=\"Open In Colab\"/></a>"
      ]
    },
    {
      "cell_type": "code",
      "source": [
        "from google.colab import drive\n",
        "import os\n",
        "import qrcode\n",
        "import cv2\n",
        "from PIL import Image\n",
        "\n",
        "# ✅ Mount Google Drive\n",
        "drive.mount('/content/drive')\n",
        "\n",
        "# ✅ Set the folder path where the QR code will be saved on Google Drive\n",
        "folder_path = \"/content/drive/MyDrive/GIAIC_QR_Project\"\n",
        "\n",
        "# ✅ Create the folder if it doesn't already exist\n",
        "os.makedirs(folder_path, exist_ok=True)\n",
        "\n",
        "# ✅ Function to generate the QR Code\n",
        "def generate_qr(data, filename=\"my_qr.png\"):\n",
        "    qr = qrcode.make(data)  # Create the QR code\n",
        "    qr.save(filename)  # Save it to a file\n",
        "    print(f\"QR Code saved as {filename}\")\n",
        "\n",
        "# ✅ Function to decode the QR Code\n",
        "def decode_qr(filename):\n",
        "    detector = cv2.QRCodeDetector()  # OpenCV QR code detector\n",
        "    img = cv2.imread(filename)  # Read the image\n",
        "    data, bbox, _ = detector.detectAndDecode(img)  # Detect and decode the QR code\n",
        "    if bbox is not None and data:\n",
        "        print(\"Decoded Data:\", data)  # Print decoded data (URL)\n",
        "    else:\n",
        "        print(\"QR code not detected\")\n",
        "\n",
        "# ✅ Generate the QR Code and save it to Google Drive\n",
        "file_path = f\"{folder_path}/giaic_qr.png\"  # Path to save the file on Google Drive\n",
        "generate_qr(\"https://giaic.org\", file_path)  # Generate and save QR code\n",
        "\n",
        "# ✅ Decode the QR Code from the saved file on Google Drive\n",
        "decode_qr(file_path)  # Decode the QR code\n"
      ],
      "metadata": {
        "colab": {
          "base_uri": "https://localhost:8080/"
        },
        "id": "Zvc2rtgBgaZi",
        "outputId": "317da51a-05d1-45ec-c8fa-821957ccfd81"
      },
      "execution_count": null,
      "outputs": [
        {
          "output_type": "stream",
          "name": "stdout",
          "text": [
            "Mounted at /content/drive\n",
            "QR Code saved as /content/drive/MyDrive/GIAIC_QR_Project/giaic_qr.png\n",
            "Decoded Data: https://giaic.org\n"
          ]
        }
      ]
    },
    {
      "cell_type": "code",
      "source": [
        "from google.colab import auth\n",
        "auth.authenticate_user()\n"
      ],
      "metadata": {
        "id": "L_pb1mSrmAEX"
      },
      "execution_count": null,
      "outputs": []
    }
  ]
}